{
 "cells": [
  {
   "cell_type": "markdown",
   "metadata": {},
   "source": [
    "# BASIC EXECUTION"
   ]
  },
  {
   "cell_type": "code",
   "execution_count": 1,
   "metadata": {},
   "outputs": [
    {
     "name": "stdout",
     "output_type": "stream",
     "text": [
      "Hello\n"
     ]
    }
   ],
   "source": [
    "print(\"Hello\")"
   ]
  },
  {
   "cell_type": "code",
   "execution_count": null,
   "metadata": {},
   "outputs": [],
   "source": [
    "# python has various built-in modules that could be looked upon at python website"
   ]
  },
  {
   "cell_type": "code",
   "execution_count": 23,
   "metadata": {},
   "outputs": [
    {
     "name": "stdout",
     "output_type": "stream",
     "text": [
      "0.5191026070076309\n",
      "16\n",
      "0.5661715836586573\n",
      "16\n",
      "0.3761434048041249\n",
      "19\n"
     ]
    }
   ],
   "source": [
    "# using python random module\n",
    "\n",
    "import random # importing python random module\n",
    "\n",
    "for i in range(3):\n",
    "    print(random.random()) # generates random floating point between zero to one\n",
    "    print(random.randint(10,20)) # generates integer random values withi"
   ]
  },
  {
   "cell_type": "markdown",
   "metadata": {},
   "source": [
    "# VARIABLE"
   ]
  },
  {
   "cell_type": "code",
   "execution_count": 2,
   "metadata": {},
   "outputs": [],
   "source": [
    "price = 10 # integer variable\n",
    "rating = 4.5 # float type variable\n",
    "name = 'John Smith' # string type variable\n",
    "is_new = True # boolean type variable"
   ]
  },
  {
   "cell_type": "markdown",
   "metadata": {},
   "source": [
    "# INPUT"
   ]
  },
  {
   "cell_type": "code",
   "execution_count": 3,
   "metadata": {},
   "outputs": [
    {
     "name": "stdout",
     "output_type": "stream",
     "text": [
      "What is your name? Aman\n",
      "Hi Aman\n",
      "Hey Aman, what is your favorite color Greyscale\n",
      "Aman likes Greyscale\n"
     ]
    }
   ],
   "source": [
    "name = input('What is your name? ') # input from user - allways a string\n",
    "print('Hi ' + name)\n",
    "\n",
    "fav_color = input(f\"Hey {name}, what is your favorite color \") # format string\n",
    "print(name + ' likes ' + fav_color)"
   ]
  },
  {
   "cell_type": "markdown",
   "metadata": {},
   "source": [
    "# TYPE CONVERSION"
   ]
  },
  {
   "cell_type": "code",
   "execution_count": 4,
   "metadata": {},
   "outputs": [
    {
     "name": "stdout",
     "output_type": "stream",
     "text": [
      "Birth year: 1999\n",
      "21\n",
      "<class 'int'>\n",
      "<class 'str'>\n"
     ]
    }
   ],
   "source": [
    "birth_year = input('Birth year: ')\n",
    "age = 2020 - int(birth_year)\n",
    "print(age)\n",
    "\n",
    "# Types : int(), float(), bool(), str()\n",
    "\n",
    "print(type(age)) # type function represents what class does the variable data type belong to\n",
    "print(type(birth_year))"
   ]
  },
  {
   "cell_type": "markdown",
   "metadata": {},
   "source": [
    "# STRING"
   ]
  },
  {
   "cell_type": "code",
   "execution_count": 10,
   "metadata": {},
   "outputs": [
    {
     "name": "stdout",
     "output_type": "stream",
     "text": [
      "Python course for 'beginners'\n",
      "\n",
      "Hey Aman\n",
      "\n",
      "Here's our first message to you\n",
      "\n",
      "Regards,\n",
      "Xero Technologies\n"
     ]
    }
   ],
   "source": [
    "course = \"Python course for 'beginners'\" # single quotes, double or triple can be used\n",
    "print(course)\n",
    "\n",
    "course_new = \"\"\"\n",
    "Hey Aman\n",
    "\n",
    "Here's our first message to you\n",
    "\n",
    "Regards,\n",
    "Xero Technologies\"\"\"  #three quotes for multiple line text\n",
    "\n",
    "print(course_new)"
   ]
  },
  {
   "cell_type": "code",
   "execution_count": 14,
   "metadata": {},
   "outputs": [
    {
     "name": "stdout",
     "output_type": "stream",
     "text": [
      "Python course for 'beginners'\n"
     ]
    }
   ],
   "source": [
    "# Indexing\n",
    "\n",
    "print(course[5:-2]) # slice operator - slices from index 5 to all the way to index -2, excluding -2"
   ]
  },
  {
   "cell_type": "code",
   "execution_count": 15,
   "metadata": {},
   "outputs": [
    {
     "name": "stdout",
     "output_type": "stream",
     "text": [
      "Aman with age 21 is a coder\n"
     ]
    }
   ],
   "source": [
    "# formatted string\n",
    "\n",
    "print(f'{name} with age {age} is a coder') #insert values dynamically"
   ]
  },
  {
   "cell_type": "code",
   "execution_count": 21,
   "metadata": {},
   "outputs": [
    {
     "name": "stdout",
     "output_type": "stream",
     "text": [
      "29\n",
      "12\n",
      "0\n",
      "Python course for 'noobs'\n"
     ]
    }
   ],
   "source": [
    "len_course = len(course) #length of string ; len( ) function is a general purpose function\n",
    "\n",
    "# methods of class string ; methods are specific to an object of a class\n",
    "\n",
    "course.upper() # Upper case the string ; return a new string - does not modify the original string\n",
    "\n",
    "course.lower() # lower case the string\n",
    "\n",
    "course.title() # first character of each word capital\n",
    "\n",
    "print(course.find('e')) # return first occurence index if found; -1 if not found\n",
    "\n",
    "print(course.find('Python')) # finds first occurence of a word\n",
    "\n",
    "print(course.replace('beginners','noobs')) #return a new string with beginners replaced with noob"
   ]
  },
  {
   "cell_type": "code",
   "execution_count": 23,
   "metadata": {},
   "outputs": [
    {
     "data": {
      "text/plain": [
       "True"
      ]
     },
     "execution_count": 23,
     "metadata": {},
     "output_type": "execute_result"
    }
   ],
   "source": [
    "'Python' in course # return boolean value True or False"
   ]
  },
  {
   "cell_type": "code",
   "execution_count": 25,
   "metadata": {},
   "outputs": [
    {
     "name": "stdout",
     "output_type": "stream",
     "text": [
      ">Hey my name is aman :)\n",
      "['Hey', 'my', 'name', 'is', 'aman', ':)']\n"
     ]
    }
   ],
   "source": [
    "message = input('>')\n",
    "words = message.split(' ') # splits the string into a list of strings based on the parametric character\n",
    "print(words)"
   ]
  },
  {
   "cell_type": "markdown",
   "metadata": {},
   "source": [
    "# ARITHMETIC OPERATION"
   ]
  },
  {
   "cell_type": "code",
   "execution_count": 33,
   "metadata": {},
   "outputs": [
    {
     "name": "stdout",
     "output_type": "stream",
     "text": [
      "3.3333333333333335\n",
      "3\n",
      "1\n",
      "1000\n"
     ]
    }
   ],
   "source": [
    "print(10/3) # return floating point value\n",
    "\n",
    "print(10//3) # returns integer value\n",
    "\n",
    "print(10%3) # returns remainder\n",
    "\n",
    "print(10 ** 3) # raise to a power of 3"
   ]
  },
  {
   "cell_type": "code",
   "execution_count": 34,
   "metadata": {},
   "outputs": [
    {
     "data": {
      "text/plain": [
       "'\\nPrecedence :\\nParenthesis\\nExponentiation\\nMultiplication or division\\nAddition or substaction\\n'"
      ]
     },
     "execution_count": 34,
     "metadata": {},
     "output_type": "execute_result"
    }
   ],
   "source": [
    "\"\"\"\n",
    "Precedence :\n",
    "Parenthesis\n",
    "Exponentiation\n",
    "Multiplication or division\n",
    "Addition or substaction\n",
    "\"\"\""
   ]
  },
  {
   "cell_type": "markdown",
   "metadata": {},
   "source": [
    "# MATH FUNCTION"
   ]
  },
  {
   "cell_type": "code",
   "execution_count": 39,
   "metadata": {},
   "outputs": [],
   "source": [
    "# module contains a set of reusable classes or functions\\\n",
    "\n",
    "import math"
   ]
  },
  {
   "cell_type": "code",
   "execution_count": 40,
   "metadata": {},
   "outputs": [
    {
     "name": "stdout",
     "output_type": "stream",
     "text": [
      "28\n",
      "28.101999\n"
     ]
    }
   ],
   "source": [
    "x = 28.101999\n",
    "\n",
    "print(round(x)) # rounds of to an integer value\n",
    "\n",
    "print(abs(-x)) # absolute value"
   ]
  },
  {
   "cell_type": "code",
   "execution_count": 44,
   "metadata": {},
   "outputs": [
    {
     "name": "stdout",
     "output_type": "stream",
     "text": [
      "['__doc__', '__loader__', '__name__', '__package__', '__spec__', 'acos', 'acosh', 'asin', 'asinh', 'atan', 'atan2', 'atanh', 'ceil', 'comb', 'copysign', 'cos', 'cosh', 'degrees', 'dist', 'e', 'erf', 'erfc', 'exp', 'expm1', 'fabs', 'factorial', 'floor', 'fmod', 'frexp', 'fsum', 'gamma', 'gcd', 'hypot', 'inf', 'isclose', 'isfinite', 'isinf', 'isnan', 'isqrt', 'ldexp', 'lgamma', 'log', 'log10', 'log1p', 'log2', 'modf', 'nan', 'perm', 'pi', 'pow', 'prod', 'radians', 'remainder', 'sin', 'sinh', 'sqrt', 'tan', 'tanh', 'tau', 'trunc']\n",
      "Help on built-in function ceil in module math:\n",
      "\n",
      "ceil(x, /)\n",
      "    Return the ceiling of x as an Integral.\n",
      "    \n",
      "    This is the smallest integer >= x.\n",
      "\n",
      "None\n"
     ]
    }
   ],
   "source": [
    "print(dir(math)) # shows the module directory : private functions, public functions, global variables and classes\n",
    "\n",
    "print(help(math.ceil)) # shows the function data protoype"
   ]
  },
  {
   "cell_type": "code",
   "execution_count": 46,
   "metadata": {},
   "outputs": [
    {
     "name": "stdout",
     "output_type": "stream",
     "text": [
      "3\n",
      "2\n"
     ]
    }
   ],
   "source": [
    "print(math.ceil(2.9)) # the greatest higest integer function\n",
    "\n",
    "print(math.floor(2.9)) # the greatest lowest integer function"
   ]
  },
  {
   "cell_type": "markdown",
   "metadata": {},
   "source": [
    "# IF ELSE STATEMENTS"
   ]
  },
  {
   "cell_type": "code",
   "execution_count": 57,
   "metadata": {},
   "outputs": [
    {
     "name": "stdout",
     "output_type": "stream",
     "text": [
      "It's a hot day\n",
      "Drink plenty of water\n",
      "Enjoy your day\n"
     ]
    }
   ],
   "source": [
    "## To print some statements on basis of a variable is_hot\n",
    "\n",
    "is_hot = True\n",
    "is_cold = False\n",
    "\n",
    "if is_hot:\n",
    "    print(\"It's a hot day\")\n",
    "    print(\"Drink plenty of water\")\n",
    "elif is_cold:\n",
    "    print(\"It's a cold day\")\n",
    "    print(\"Wear warm clothes\")\n",
    "else:\n",
    "    print(\"It's a lovely day\")\n",
    "    \n",
    "print(\"Enjoy your day\") # come here by pressing shift + Tab"
   ]
  },
  {
   "cell_type": "code",
   "execution_count": 58,
   "metadata": {},
   "outputs": [
    {
     "name": "stdout",
     "output_type": "stream",
     "text": [
      "Valid\n"
     ]
    }
   ],
   "source": [
    "# Show's use of and, or and not\n",
    "\n",
    "if is_hot and is_cold:\n",
    "    print(\"Invalid\")\n",
    "elif is_hot or is_cold:\n",
    "    print(\"Valid\")\n",
    "elif not is_hot and not is_cold:\n",
    "    print(\"It's a Lovely day, Enjoy\")"
   ]
  },
  {
   "cell_type": "code",
   "execution_count": 61,
   "metadata": {},
   "outputs": [
    {
     "name": "stdout",
     "output_type": "stream",
     "text": [
      "It's not a cold day\n"
     ]
    }
   ],
   "source": [
    "# comparison operators : >, <, >=, <=, ==, !\n",
    "\n",
    "temperature = 30\n",
    "\n",
    "if temperature>30:\n",
    "    print(\"It's a hot day\")\n",
    "else:\n",
    "    print(\"It's not a cold day\")"
   ]
  },
  {
   "cell_type": "markdown",
   "metadata": {},
   "source": [
    "# WHILE LOOP"
   ]
  },
  {
   "cell_type": "code",
   "execution_count": 68,
   "metadata": {},
   "outputs": [
    {
     "name": "stdout",
     "output_type": "stream",
     "text": [
      "*\n",
      "**\n",
      "***\n",
      "****\n",
      "*****\n",
      "Done\n"
     ]
    }
   ],
   "source": [
    "i = 1\n",
    "while i<=5: # checks if the expression is true or false\n",
    "    print('*' * i) # the string is repreated i times\n",
    "    i = i+1\n",
    "print(\"Done\")"
   ]
  },
  {
   "cell_type": "code",
   "execution_count": 71,
   "metadata": {},
   "outputs": [
    {
     "name": "stdout",
     "output_type": "stream",
     "text": [
      "Guess: 3\n",
      "Guess: 4\n",
      "Guess: 5\n",
      "You lost!\n"
     ]
    }
   ],
   "source": [
    "# A guessing game\n",
    "\n",
    "secret_number = 9\n",
    "guess_count = 0\n",
    "guess_limit = 3\n",
    "\n",
    "while guess_count < guess_limit:\n",
    "    guess = int(input('Guess: '))\n",
    "    guess_count+=1\n",
    "    if guess == secret_number:\n",
    "        print(\"You won!\")\n",
    "        break\n",
    "else: # can be used if the no condition is satisfied by the while loop                                 \n",
    "    print(\"You lost!\")"
   ]
  },
  {
   "cell_type": "markdown",
   "metadata": {},
   "source": [
    "# FOR LOOP"
   ]
  },
  {
   "cell_type": "code",
   "execution_count": 73,
   "metadata": {},
   "outputs": [
    {
     "name": "stdout",
     "output_type": "stream",
     "text": [
      "python\n"
     ]
    }
   ],
   "source": [
    "final_print = \"\"\n",
    "\n",
    "for item in 'python': # item takes python as character-by-character\n",
    "    final_print += item\n",
    "\n",
    "print(final_print)"
   ]
  },
  {
   "cell_type": "code",
   "execution_count": 77,
   "metadata": {},
   "outputs": [
    {
     "name": "stdout",
     "output_type": "stream",
     "text": [
      "0\n",
      "1\n",
      "2\n",
      "3\n",
      "4\n",
      "5\n",
      "6\n",
      "7\n",
      "8\n",
      "9\n",
      "5\n",
      "7\n",
      "9\n"
     ]
    }
   ],
   "source": [
    "# using range function\n",
    "\n",
    "for item in range(10): # from 0 to 9\n",
    "    print(item)\n",
    "\n",
    "for iitem in range(5,10,2): #stard 5, end 10, step 2\n",
    "    print(iitem)"
   ]
  },
  {
   "cell_type": "markdown",
   "metadata": {},
   "source": [
    "# LIST"
   ]
  },
  {
   "cell_type": "code",
   "execution_count": 59,
   "metadata": {},
   "outputs": [],
   "source": [
    "names = ['John','Bob','Mosh','Sarah','Mary'] # defining a list of items\n",
    "\n",
    "names[0] = 'Jon' # they are mutable"
   ]
  },
  {
   "cell_type": "code",
   "execution_count": 60,
   "metadata": {},
   "outputs": [
    {
     "name": "stdout",
     "output_type": "stream",
     "text": [
      "10\n"
     ]
    }
   ],
   "source": [
    "# Program to print maximum number\n",
    "\n",
    "numbers = [3,6,3,8,4,10]\n",
    "\n",
    "max = numbers[0]\n",
    "\n",
    "for number in numbers:\n",
    "    if number>max:\n",
    "        max = number\n",
    "        \n",
    "print(max)"
   ]
  },
  {
   "cell_type": "code",
   "execution_count": 61,
   "metadata": {},
   "outputs": [
    {
     "name": "stdout",
     "output_type": "stream",
     "text": [
      "6\n"
     ]
    }
   ],
   "source": [
    "# 2-Dimensional List\n",
    "\n",
    "matrix = [[1,2,3],[4,5,6],[7,8,9]] #behaves as a list of list\n",
    "\n",
    "print(matrix[1][2])"
   ]
  },
  {
   "cell_type": "code",
   "execution_count": 66,
   "metadata": {},
   "outputs": [
    {
     "name": "stdout",
     "output_type": "stream",
     "text": [
      "8\n",
      "True\n",
      "2\n"
     ]
    }
   ],
   "source": [
    "# List methods\n",
    "\n",
    "numbers.append(20) # adds a number to the end of the list\n",
    "\n",
    "numbers.insert(0, 10) # placed at the beginning of the list, or index zero by shifting everything after it by a position of 1\n",
    "\n",
    "\"\"\" numbers.clear() \"\"\" # clears all elements of the list\n",
    "\n",
    "recent_pop = numbers.pop() # removes last item of the list and returns as an integer\n",
    "\n",
    "print(numbers.index(4)) # returns the value at the index specified\n",
    "\n",
    "print(3 in numbers) # returns boolean value depending upon the presence of the data_type\n",
    "\n",
    "print(numbers.count(3)) # returns the number_count of a data_type\n",
    "\n",
    "numbers.sort() # doesn't return any value ; simply sorts the list\n",
    "\n",
    "numbers.reverse() # reverse the list\n",
    "\n",
    "numbers_new = numbers.copy() # duplicates the list"
   ]
  },
  {
   "cell_type": "markdown",
   "metadata": {},
   "source": [
    "# TUPLE"
   ]
  },
  {
   "cell_type": "code",
   "execution_count": 120,
   "metadata": {},
   "outputs": [],
   "source": [
    "# non mutable lists\n",
    "\n",
    "t_number = (1,2,3)"
   ]
  },
  {
   "cell_type": "code",
   "execution_count": 122,
   "metadata": {},
   "outputs": [
    {
     "name": "stdout",
     "output_type": "stream",
     "text": [
      "1   2   3\n"
     ]
    }
   ],
   "source": [
    "# unpacking a tuple or list\n",
    "\n",
    "x, y, z = t_number\n",
    "\n",
    "print(x,\" \",y,\" \",z)"
   ]
  },
  {
   "cell_type": "markdown",
   "metadata": {},
   "source": [
    "# DICTIONARY"
   ]
  },
  {
   "cell_type": "code",
   "execution_count": 21,
   "metadata": {},
   "outputs": [],
   "source": [
    "# used where key value pairs are needed\n",
    "\n",
    "customer = { 'name':'Aman' , 'age' : 21 , 'is_verified' : True}\n",
    "\n",
    "customer[\"birthdate\"] = 'Oct 28 2020' # adding a value to the dictionary"
   ]
  },
  {
   "cell_type": "code",
   "execution_count": 24,
   "metadata": {},
   "outputs": [
    {
     "name": "stdout",
     "output_type": "stream",
     "text": [
      "Aman\n",
      "21\n",
      "None\n",
      "Did not get the value\n"
     ]
    }
   ],
   "source": [
    "print(customer[\"name\"]) # return value if key is present\n",
    "\n",
    "# print(customer['Name']) # error if key not present\n",
    "\n",
    "print(customer.get(\"age\")) # return value if key is present\n",
    "\n",
    "print(customer.get(\"Age\")) # return None if key is not present\n",
    "\n",
    "print(customer.get(\"Hey\",'Did not get the value')) # 2nd Param : for what to return when key does not occur in dictionary\n"
   ]
  },
  {
   "cell_type": "markdown",
   "metadata": {},
   "source": [
    "# FUNCTION"
   ]
  },
  {
   "cell_type": "code",
   "execution_count": 32,
   "metadata": {},
   "outputs": [
    {
     "name": "stdout",
     "output_type": "stream",
     "text": [
      "Hi aman jha there!\n",
      "Welcome aboard\n"
     ]
    },
    {
     "data": {
      "text/plain": [
       "\"\\nparameters : place holder's present in the function declaration/prototype\\n\\narguments : passed by the current function to the function to be called\\n\""
      ]
     },
     "execution_count": 32,
     "metadata": {},
     "output_type": "execute_result"
    }
   ],
   "source": [
    "def greet_user(first_name , last_name): # defining a function; parameters are local variables\n",
    "    print(f'Hi {first_name} {last_name} there!')\n",
    "    print('Welcome aboard')\n",
    "    # use two '\\n' ( newlines ) after defining a function\n",
    "\n",
    "greet_user('aman','jha') # 'aman' is an argument\n",
    "\n",
    "'''\n",
    "parameters : place holder's present in the function declaration/prototype\n",
    "\n",
    "arguments : passed by the current function to the function to be called\n",
    "'''"
   ]
  },
  {
   "cell_type": "code",
   "execution_count": 33,
   "metadata": {},
   "outputs": [
    {
     "name": "stdout",
     "output_type": "stream",
     "text": [
      "Hi conor Mcgregor there!\n",
      "Welcome aboard\n"
     ]
    }
   ],
   "source": [
    "# using keyword arguments - increases readability\n",
    "\n",
    "greet_user(last_name = 'Mcgregor', first_name = 'conor') # here positions can be manipulated by specifying keywords\n",
    "\n",
    "# while mixing positional & keyword arguments, make sure you input positional arguments first and after that keyword argument"
   ]
  },
  {
   "cell_type": "code",
   "execution_count": 36,
   "metadata": {},
   "outputs": [
    {
     "name": "stdout",
     "output_type": "stream",
     "text": [
      "16\n",
      "9\n",
      "None\n"
     ]
    }
   ],
   "source": [
    "def square(num): # functions returns a number\n",
    "    return num**2\n",
    "\n",
    "\n",
    "def none_return_square(num):\n",
    "    print(num**2)\n",
    "    #return None\n",
    "    \n",
    "\n",
    "print(square(4))\n",
    "print(none_return_square(3))"
   ]
  },
  {
   "cell_type": "markdown",
   "metadata": {},
   "source": [
    "# EXCEPTIONS AND COMMENTS"
   ]
  },
  {
   "cell_type": "code",
   "execution_count": 41,
   "metadata": {},
   "outputs": [
    {
     "name": "stdout",
     "output_type": "stream",
     "text": [
      "Age :0\n",
      "can't divide income with zero\n"
     ]
    }
   ],
   "source": [
    "# for OS returning 0 means success, anything else mean crash\n",
    "\n",
    "try:\n",
    "    age = int(input('Age :'))\n",
    "    income = 20000\n",
    "    risk = income/age\n",
    "    print(age)\n",
    "except ZeroDivisionError:\n",
    "    print(\"\"\"can't divide income with zero\"\"\")\n",
    "except ValueError: # error of type value error; if value error not defined it excepts for any error\n",
    "    print('Invalid value')"
   ]
  },
  {
   "cell_type": "markdown",
   "metadata": {},
   "source": [
    "# CLASSES"
   ]
  },
  {
   "cell_type": "code",
   "execution_count": 46,
   "metadata": {},
   "outputs": [
    {
     "name": "stdout",
     "output_type": "stream",
     "text": [
      "move\n",
      "draw\n",
      "30\n"
     ]
    }
   ],
   "source": [
    "# classes are blueprints for a data point\n",
    "\n",
    "class Point: # start class name from capital letter\n",
    "    \n",
    "    z = 30 # called member_variables\n",
    "    \n",
    "    def move(self): # functions if declared need to take the self variable if the want to manipulate the classes object - otherwise the variables will be termed as local\n",
    "        print(\"move\")\n",
    "        \n",
    "    def draw(self): # called methods\n",
    "        print(\"draw\")\n",
    "\n",
    "        \n",
    "point1 = Point() # instance of the point object\n",
    "point1.move()\n",
    "point1.draw()\n",
    "\n",
    "point1.x = 10 # we can add variables to an instance of the class\n",
    "point1.y = 20\n",
    "\n",
    "print(point1.z)"
   ]
  },
  {
   "cell_type": "code",
   "execution_count": 48,
   "metadata": {},
   "outputs": [
    {
     "name": "stdout",
     "output_type": "stream",
     "text": [
      "10\n"
     ]
    }
   ],
   "source": [
    "# showing use of constructor\n",
    "\n",
    "class myPoint:\n",
    "    \n",
    "    def __init__(self,x,y): # a constructor; self is taken as parameter when we handle variables of the class\n",
    "        self.x = x # self references the same object in memory\n",
    "        self.y = y # every method should have parameter self\n",
    "        \n",
    "\n",
    "point2 = myPoint(10,20)\n",
    "print(point2.x)"
   ]
  },
  {
   "cell_type": "code",
   "execution_count": 50,
   "metadata": {},
   "outputs": [
    {
     "name": "stdout",
     "output_type": "stream",
     "text": [
      "1\n"
     ]
    }
   ],
   "source": [
    "# showing inheritance\n",
    "\n",
    "# python doesn't have an empty class\n",
    "\n",
    "\"\"\"\n",
    "for empty class include the keyword 'pass' \n",
    "\n",
    "class Dog(Mammal):\n",
    "    pass\n",
    "\"\"\"\n",
    "\n",
    "class ThreeDPoint(myPoint): # inherits myPoint\n",
    "    pass\n",
    "\n",
    "\n",
    "T3point = ThreeDPoint(1,2)\n",
    "print(T3point.x)\n",
    "    "
   ]
  },
  {
   "cell_type": "markdown",
   "metadata": {},
   "source": [
    "# MODULES"
   ]
  },
  {
   "cell_type": "code",
   "execution_count": 35,
   "metadata": {},
   "outputs": [],
   "source": [
    "import import_ipynb # importing ipynb files as modules\n",
    "import converters #imported like an object"
   ]
  },
  {
   "cell_type": "code",
   "execution_count": 56,
   "metadata": {},
   "outputs": [
    {
     "name": "stdout",
     "output_type": "stream",
     "text": [
      "69.75\n"
     ]
    }
   ],
   "source": [
    "print(converters.lbs_to_kg(155))"
   ]
  },
  {
   "cell_type": "code",
   "execution_count": 57,
   "metadata": {},
   "outputs": [
    {
     "name": "stdout",
     "output_type": "stream",
     "text": [
      "154.44444444444443\n"
     ]
    }
   ],
   "source": [
    "# importing specific functions from modules\n",
    "\n",
    "# define utilis module to define functions to enhance code readability\n",
    "\n",
    "from converters import kg_to_lbs\n",
    "\n",
    "print(kg_to_lbs(69.5))"
   ]
  },
  {
   "cell_type": "markdown",
   "metadata": {},
   "source": [
    "# PACKAGE"
   ]
  },
  {
   "cell_type": "code",
   "execution_count": 59,
   "metadata": {},
   "outputs": [],
   "source": [
    "# Package is a container for multiple modules\n",
    "\n",
    "import Package.Hello #importing module from package\n",
    "from Package import Hello # importing whole module\n",
    "from Package.Hello import Hey #importing specific function\n",
    "#from Package.Hello import New_Dice #can't import class from ipynb file\n",
    "\n",
    "# import Package.Hello if .py file\n",
    "# from Package import Hello"
   ]
  },
  {
   "cell_type": "code",
   "execution_count": 51,
   "metadata": {},
   "outputs": [
    {
     "name": "stdout",
     "output_type": "stream",
     "text": [
      "In the Package-package\n",
      "In the Package-package\n"
     ]
    }
   ],
   "source": [
    "Hello.Hey()\n",
    "Hey()\n",
    "\n",
    "# Package.Hello.Hey() if .py file\n",
    "# Hello.Hey() if .py file"
   ]
  },
  {
   "cell_type": "markdown",
   "metadata": {},
   "source": [
    "# DIRECTORIES AND PIPY, PIP"
   ]
  },
  {
   "cell_type": "code",
   "execution_count": 60,
   "metadata": {},
   "outputs": [],
   "source": [
    "# module pathlib provides Object-oriented filesystem paths\n",
    "\n",
    "from pathlib import Path\n",
    "\n",
    "# Absolute : Defined by the system\n",
    "\n",
    "# Relative : Relative to the current file"
   ]
  },
  {
   "cell_type": "code",
   "execution_count": 67,
   "metadata": {},
   "outputs": [
    {
     "name": "stdout",
     "output_type": "stream",
     "text": [
      "True\n",
      "False\n"
     ]
    }
   ],
   "source": [
    "path = Path(\"Package\")\n",
    "\n",
    "print(path.exists()) # returns true if the path exists\n",
    "\n",
    "path_new = Path(\"New_Package\")\n",
    "print(path_new.exists())\n",
    "path_new.mkdir() # make directory\n",
    "path_new.rmdir() #remove directory"
   ]
  },
  {
   "cell_type": "code",
   "execution_count": 78,
   "metadata": {},
   "outputs": [
    {
     "name": "stdout",
     "output_type": "stream",
     "text": [
      ".\n",
      "<generator object Path.glob at 0x000000274EE56120>\n",
      ".ipynb_checkpoints\n",
      "converters.ipynb\n",
      "Py basics.ipynb\n"
     ]
    }
   ],
   "source": [
    "Chdir = Path() # path to the current directory\n",
    "print(Chdir)\n",
    "print(Chdir.glob('*.py')) # we can loop through these generator opjects\n",
    "\n",
    "for file in Chdir.glob('*.ipynb'): # name of all the .ipynb file in our current directory\n",
    "    print(file)"
   ]
  },
  {
   "cell_type": "code",
   "execution_count": 80,
   "metadata": {},
   "outputs": [
    {
     "data": {
      "text/plain": [
       "'\\npip install <package>\\n'"
      ]
     },
     "execution_count": 80,
     "metadata": {},
     "output_type": "execute_result"
    }
   ],
   "source": [
    "# PIPY or PIP or Python package directory have thousands of files\n",
    "\n",
    "\"\"\"\n",
    "pip install <package>\n",
    "\"\"\""
   ]
  }
 ],
 "metadata": {
  "kernelspec": {
   "display_name": "Python 3",
   "language": "python",
   "name": "python3"
  },
  "language_info": {
   "codemirror_mode": {
    "name": "ipython",
    "version": 3
   },
   "file_extension": ".py",
   "mimetype": "text/x-python",
   "name": "python",
   "nbconvert_exporter": "python",
   "pygments_lexer": "ipython3",
   "version": "3.7.9"
  }
 },
 "nbformat": 4,
 "nbformat_minor": 4
}
