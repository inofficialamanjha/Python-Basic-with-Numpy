{
 "cells": [
  {
   "cell_type": "markdown",
   "metadata": {},
   "source": [
    "# SPREADSHEET PROCESSING"
   ]
  },
  {
   "cell_type": "code",
   "execution_count": 12,
   "metadata": {},
   "outputs": [],
   "source": [
    "import openpyxl as xl # to import openpyxl module; xl is alias for openpyxl\n",
    "\n",
    "from openpyxl.chart import BarChart, Refernce"
   ]
  },
  {
   "cell_type": "code",
   "execution_count": 13,
   "metadata": {},
   "outputs": [],
   "source": [
    "# creating a workbook object\n",
    "\n",
    "wb = xl.load_workbook(r'Python Tutorial Supplementary Materials/transactions.xlsx')\n",
    "\n",
    "# define sheet in the worksbool\n",
    "\n",
    "sheet = wb['Sheet1']"
   ]
  },
  {
   "cell_type": "code",
   "execution_count": 14,
   "metadata": {},
   "outputs": [
    {
     "name": "stdout",
     "output_type": "stream",
     "text": [
      "<Cell 'Sheet1'.A1>\n",
      "transaction_id\n",
      "<Cell 'Sheet1'.A1>\n",
      "transaction_id\n",
      "4\n"
     ]
    }
   ],
   "source": [
    "# see the cell value\n",
    "\n",
    "cell = sheet['a1']\n",
    "print(cell) # cell object\n",
    "print(cell.value) # returns stirng transaction_id\n",
    "\n",
    "cell = sheet.cell(1,1) # can also be used to view shell vlaue\n",
    "print(cell)\n",
    "print(cell.value)\n",
    "\n",
    "print(sheet.max_row) # print the number of rows"
   ]
  },
  {
   "cell_type": "code",
   "execution_count": 15,
   "metadata": {},
   "outputs": [
    {
     "name": "stdout",
     "output_type": "stream",
     "text": [
      "5.95\n",
      "6.95\n",
      "7.95\n"
     ]
    }
   ],
   "source": [
    "for row in range(2,sheet.max_row+1):\n",
    "    cell = sheet.cell(row,3)\n",
    "    print(cell.value)"
   ]
  },
  {
   "cell_type": "code",
   "execution_count": 18,
   "metadata": {},
   "outputs": [],
   "source": [
    "# adding a new column\n",
    "\n",
    "sheet.cell(1,4).value = \"Corrected Price\"\n",
    "\n",
    "for row in range(2,sheet.max_row+1):\n",
    "    cell = sheet.cell(row,3)\n",
    "    corrected_price = cell.value * 0.9\n",
    "    corrected_price_cell = sheet.cell(row,4)\n",
    "    corrected_price_cell.value = corrected_price"
   ]
  },
  {
   "cell_type": "code",
   "execution_count": 19,
   "metadata": {},
   "outputs": [],
   "source": [
    "#save the workbook\n",
    "\n",
    "wb.save(r'Python Tutorial Supplementary Materials/transactions_new.xlsx')"
   ]
  }
 ],
 "metadata": {
  "kernelspec": {
   "display_name": "Python 3",
   "language": "python",
   "name": "python3"
  },
  "language_info": {
   "codemirror_mode": {
    "name": "ipython",
    "version": 3
   },
   "file_extension": ".py",
   "mimetype": "text/x-python",
   "name": "python",
   "nbconvert_exporter": "python",
   "pygments_lexer": "ipython3",
   "version": "3.8.3"
  }
 },
 "nbformat": 4,
 "nbformat_minor": 4
}
