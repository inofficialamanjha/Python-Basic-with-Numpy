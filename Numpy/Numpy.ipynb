{
 "cells": [
  {
   "cell_type": "code",
   "execution_count": 1,
   "id": "forty-monster",
   "metadata": {},
   "outputs": [],
   "source": [
    "# Importing Libraries\n",
    "\n",
    "import numpy as np # if not pip install numpy | pip3 install numpy"
   ]
  },
  {
   "cell_type": "markdown",
   "id": "removable-facial",
   "metadata": {},
   "source": [
    "# BACKGROUND\n",
    "\n",
    "Multi-dimensional arrays library.\n",
    "\n",
    "List are slow, Numpy arrays are fast.\n",
    "\n",
    "Numpy uses fixed types. Like Int32, Int16, float32, Int8 ( single bite ).\n",
    "\n",
    "When we iterate through this array, we don't have to type check everytime.\n",
    "\n",
    "Numpy is contiguous memory. CPU have Single instruction Multiple data processing units which make numpy computational fast. Also, cache is more effectively utilized. Also, Numpy have more functionality than Lists like multiply, matrix multiplications and other computational stuff.\n",
    "\n",
    "List is a contiguous array of pointers not of the various data-types.\n",
    "\n",
    "Applications of Numpy :\n",
    "- Have lot of Matlab functions. If Numpy doesn't work use scipy.\n",
    "- Useful for Plotting ( Matplotlib ).\n",
    "- Backend of many other frameworks ( Pandas, Digital Photography ).\n",
    "- Machine Learning and Deep Learning."
   ]
  },
  {
   "cell_type": "code",
   "execution_count": 10,
   "id": "sporting-calcium",
   "metadata": {
    "scrolled": true
   },
   "outputs": [
    {
     "name": "stdout",
     "output_type": "stream",
     "text": [
      "[1 2 3] \n",
      "\n",
      "[[1. 2. 3.]\n",
      " [4. 5. 6.]] \n",
      "\n",
      "1 \n",
      " (2, 3) \n",
      " int32 \n",
      " float64\n"
     ]
    }
   ],
   "source": [
    "a = np.array([1,2,3])\n",
    "print(a,\"\\n\") # a one-d array with degree : 1, Shape : 1 x 3 \n",
    "\n",
    "b = np.array([[1.0,2.0,3.0],[4.0,5.0,6.0]])\n",
    "print(b,\"\\n\") # 2-D array\n",
    "\n",
    "print(a.ndim,\"\\n\",b.shape,\"\\n\",a.dtype,\"\\n\",b.dtype) # return dimension of numpy array, shape of the same, dtype : int32 by default and dtype : float64, "
   ]
  },
  {
   "cell_type": "code",
   "execution_count": 18,
   "id": "isolated-language",
   "metadata": {},
   "outputs": [
    {
     "name": "stdout",
     "output_type": "stream",
     "text": [
      "int8 \n",
      " 1 \n",
      " 3 \n",
      " 3 \n",
      " 8\n"
     ]
    }
   ],
   "source": [
    "a = np.array([1,2,3],dtype='int8') # size of 1 byte - Try to specify data-type to fit your data as tightly as possible\n",
    "print(a.dtype,\"\\n\",a.itemsize,\"\\n\",a.size,\"\\n\",a.nbytes,\"\\n\",b.itemsize) # item size : return the bit size of the data-type, np.array.size : number of items, "
   ]
  },
  {
   "cell_type": "markdown",
   "id": "alpha-tampa",
   "metadata": {},
   "source": [
    "# Accessing/Changing specific elements, rows, columns, etc."
   ]
  },
  {
   "cell_type": "code",
   "execution_count": 28,
   "id": "grand-collector",
   "metadata": {},
   "outputs": [
    {
     "name": "stdout",
     "output_type": "stream",
     "text": [
      "[[ 1  2  3  4  5  6  7]\n",
      " [ 8  9 10 11 12 13 14]] \n",
      " (2, 7) \n",
      " 13 \n",
      " [1 2 3 4 5 6 7] \n",
      " [[ 1  2  3  4  5  6  7]\n",
      " [ 8  9 10 11 12 13 14]] \n",
      " [2 4]\n"
     ]
    }
   ],
   "source": [
    "a = np.array([[1,2,3,4,5,6,7],[8,9,10,11,12,13,14]])\n",
    "\n",
    "print(a,\"\\n\",a.shape,\"\\n\",a[1,5],\"\\n\",a[0,:],'\\n',a[:2],'\\n',a[0,1:-2:2]) # Get a specific element [r,c] ; [r,:] prints the entire column"
   ]
  },
  {
   "cell_type": "code",
   "execution_count": 29,
   "id": "coral-operator",
   "metadata": {},
   "outputs": [
    {
     "name": "stdout",
     "output_type": "stream",
     "text": [
      "[[ 1  2  1  4  5  6  7]\n",
      " [ 8  9  2 11 12 20 14]]\n"
     ]
    }
   ],
   "source": [
    "a[1,5] = 20\n",
    "\n",
    "a[:,2] = [1,2]\n",
    "print(a)"
   ]
  },
  {
   "cell_type": "code",
   "execution_count": 32,
   "id": "capital-giant",
   "metadata": {},
   "outputs": [
    {
     "name": "stdout",
     "output_type": "stream",
     "text": [
      "[[[1 2]\n",
      "  [3 4]]\n",
      "\n",
      " [[5 6]\n",
      "  [7 8]]] \n",
      " [3 4]\n"
     ]
    }
   ],
   "source": [
    "b = np.array([[[1,2],[3,4]],[[5,6],[7,8]]])\n",
    "print(b,'\\n',b[0,1,:])"
   ]
  },
  {
   "cell_type": "code",
   "execution_count": 35,
   "id": "reserved-proposition",
   "metadata": {},
   "outputs": [
    {
     "name": "stdout",
     "output_type": "stream",
     "text": [
      "[[[1 2]\n",
      "  [1 2]]\n",
      "\n",
      " [[5 6]\n",
      "  [3 4]]]\n"
     ]
    }
   ],
   "source": [
    "b[:,1,:] = [[1,2],[3,4]]\n",
    "print(b)"
   ]
  },
  {
   "cell_type": "markdown",
   "id": "excess-easter",
   "metadata": {},
   "source": [
    "# Initializing different types of Arrays"
   ]
  },
  {
   "cell_type": "code",
   "execution_count": 36,
   "id": "disciplinary-senator",
   "metadata": {},
   "outputs": [
    {
     "data": {
      "text/plain": [
       "array([[[0., 0., 0.],\n",
       "        [0., 0., 0.],\n",
       "        [0., 0., 0.]],\n",
       "\n",
       "       [[0., 0., 0.],\n",
       "        [0., 0., 0.],\n",
       "        [0., 0., 0.]]])"
      ]
     },
     "execution_count": 36,
     "metadata": {},
     "output_type": "execute_result"
    }
   ],
   "source": [
    "# All 0's matrix\n",
    "\n",
    "np.zeros((2,3,3)) # just input the shape you want for the array"
   ]
  },
  {
   "cell_type": "code",
   "execution_count": 39,
   "id": "intimate-volume",
   "metadata": {},
   "outputs": [
    {
     "data": {
      "text/plain": [
       "array([[[1, 1],\n",
       "        [1, 1]],\n",
       "\n",
       "       [[1, 1],\n",
       "        [1, 1]],\n",
       "\n",
       "       [[1, 1],\n",
       "        [1, 1]],\n",
       "\n",
       "       [[1, 1],\n",
       "        [1, 1]]])"
      ]
     },
     "execution_count": 39,
     "metadata": {},
     "output_type": "execute_result"
    }
   ],
   "source": [
    "# All 1's\n",
    "\n",
    "np.ones((4,2,2),dtype='int32')"
   ]
  },
  {
   "cell_type": "code",
   "execution_count": 41,
   "id": "rising-burden",
   "metadata": {},
   "outputs": [
    {
     "data": {
      "text/plain": [
       "array([[99., 99.],\n",
       "       [99., 99.]], dtype=float32)"
      ]
     },
     "execution_count": 41,
     "metadata": {},
     "output_type": "execute_result"
    }
   ],
   "source": [
    "# Any other number\n",
    "\n",
    "np.full((2,2),99,dtype='float32')"
   ]
  },
  {
   "cell_type": "code",
   "execution_count": 42,
   "id": "creative-carol",
   "metadata": {},
   "outputs": [
    {
     "data": {
      "text/plain": [
       "array([[4, 4, 4, 4, 4, 4, 4],\n",
       "       [4, 4, 4, 4, 4, 4, 4]])"
      ]
     },
     "execution_count": 42,
     "metadata": {},
     "output_type": "execute_result"
    }
   ],
   "source": [
    "# Any other number (full_like)\n",
    "\n",
    "np.full_like(a,4) # the size of a was 2x7, and the number we wanted in their was 4"
   ]
  },
  {
   "cell_type": "code",
   "execution_count": 44,
   "id": "running-skiing",
   "metadata": {},
   "outputs": [
    {
     "data": {
      "text/plain": [
       "array([[4, 4, 4, 4, 4, 4, 4],\n",
       "       [4, 4, 4, 4, 4, 4, 4]])"
      ]
     },
     "execution_count": 44,
     "metadata": {},
     "output_type": "execute_result"
    }
   ],
   "source": [
    "np.full(a.shape,4) # works same like the previous once"
   ]
  },
  {
   "cell_type": "code",
   "execution_count": 46,
   "id": "trained-holiday",
   "metadata": {},
   "outputs": [
    {
     "data": {
      "text/plain": [
       "array([[[0.19316278, 0.54730918, 0.9440055 ],\n",
       "        [0.89008509, 0.85672656, 0.92491974]],\n",
       "\n",
       "       [[0.73316045, 0.44375778, 0.64661722],\n",
       "        [0.21622688, 0.7585351 , 0.5133951 ]],\n",
       "\n",
       "       [[0.36349293, 0.42543684, 0.43176078],\n",
       "        [0.70098663, 0.66646544, 0.70254708]],\n",
       "\n",
       "       [[0.599648  , 0.67595097, 0.53504524],\n",
       "        [0.51919392, 0.04956357, 0.88231395]]])"
      ]
     },
     "execution_count": 46,
     "metadata": {},
     "output_type": "execute_result"
    }
   ],
   "source": [
    "np.random.rand(4,2,3) # putting the shape directly"
   ]
  },
  {
   "cell_type": "code",
   "execution_count": 47,
   "id": "conditional-linux",
   "metadata": {},
   "outputs": [
    {
     "data": {
      "text/plain": [
       "array([[0.00604841, 0.68910149, 0.18986063, 0.62949531, 0.16770735,\n",
       "        0.02473097, 0.40838251],\n",
       "       [0.27295543, 0.4030908 , 0.70609157, 0.50607273, 0.76988199,\n",
       "        0.02466887, 0.80916734]])"
      ]
     },
     "execution_count": 47,
     "metadata": {},
     "output_type": "execute_result"
    }
   ],
   "source": [
    "np.random.random_sample(a.shape) # random matrix as the same shape of a"
   ]
  },
  {
   "cell_type": "code",
   "execution_count": 51,
   "id": "micro-administration",
   "metadata": {},
   "outputs": [
    {
     "data": {
      "text/plain": [
       "array([[5, 4, 6],\n",
       "       [6, 4, 5],\n",
       "       [4, 6, 5]])"
      ]
     },
     "execution_count": 51,
     "metadata": {},
     "output_type": "execute_result"
    }
   ],
   "source": [
    "# to get random integer values\n",
    "\n",
    "np.random.randint(4,7,size=(3,3)) # 4 is the lowest & 7 is the highest value of the integer the random matrix could take"
   ]
  },
  {
   "cell_type": "code",
   "execution_count": 52,
   "id": "impossible-asthma",
   "metadata": {},
   "outputs": [
    {
     "data": {
      "text/plain": [
       "array([[1., 0., 0., 0., 0.],\n",
       "       [0., 1., 0., 0., 0.],\n",
       "       [0., 0., 1., 0., 0.],\n",
       "       [0., 0., 0., 1., 0.],\n",
       "       [0., 0., 0., 0., 1.]])"
      ]
     },
     "execution_count": 52,
     "metadata": {},
     "output_type": "execute_result"
    }
   ],
   "source": [
    "# Declaring Identity matrix\n",
    "\n",
    "np.identity(5) # identity matrix of size 5"
   ]
  },
  {
   "cell_type": "code",
   "execution_count": 53,
   "id": "artificial-bottle",
   "metadata": {},
   "outputs": [
    {
     "name": "stdout",
     "output_type": "stream",
     "text": [
      "[1 1 1 2 2 2 3 3 3]\n"
     ]
    }
   ],
   "source": [
    "# Repeat on a one-D array\n",
    "\n",
    "arr = np.array([1,2,3])\n",
    "r1 = np.repeat(arr,3,axis=0)\n",
    "print(r1) # a one dimensional array"
   ]
  },
  {
   "cell_type": "code",
   "execution_count": 55,
   "id": "soviet-aviation",
   "metadata": {},
   "outputs": [
    {
     "name": "stdout",
     "output_type": "stream",
     "text": [
      "[[1 2 3]\n",
      " [1 2 3]\n",
      " [1 2 3]]\n"
     ]
    }
   ],
   "source": [
    "# Repeat on a two-D array\n",
    "\n",
    "arr = np.array([[1,2,3]])\n",
    "r1 = np.repeat(arr,3,axis=0) # 0'th axis stands for rows\n",
    "print(r1)"
   ]
  },
  {
   "cell_type": "code",
   "execution_count": 57,
   "id": "welcome-artist",
   "metadata": {},
   "outputs": [
    {
     "data": {
      "text/plain": [
       "'\\n\\nCreate the 2-D matrix :\\n\\n1 1 1 1 1\\n1 0 0 0 1\\n1 0 9 0 1\\n1 0 0 0 1\\n1 1 1 1 1\\n\\n'"
      ]
     },
     "execution_count": 57,
     "metadata": {},
     "output_type": "execute_result"
    }
   ],
   "source": [
    "'''\n",
    "\n",
    "Create the 2-D matrix :\n",
    "\n",
    "1 1 1 1 1\n",
    "1 0 0 0 1\n",
    "1 0 9 0 1\n",
    "1 0 0 0 1\n",
    "1 1 1 1 1\n",
    "\n",
    "'''"
   ]
  },
  {
   "cell_type": "code",
   "execution_count": 65,
   "id": "middle-arbitration",
   "metadata": {},
   "outputs": [
    {
     "name": "stdout",
     "output_type": "stream",
     "text": [
      "[[1 1 1 1 1]\n",
      " [1 0 0 0 1]\n",
      " [1 0 9 0 1]\n",
      " [1 0 0 0 1]\n",
      " [1 1 1 1 1]]\n"
     ]
    }
   ],
   "source": [
    "arr = np.ones((5,5),dtype='int8')\n",
    "\n",
    "arr[1:4,1:4] = np.zeros((3,3),dtype='int8')\n",
    "\n",
    "arr[2,2] = 9\n",
    "\n",
    "print(arr)"
   ]
  },
  {
   "cell_type": "markdown",
   "id": "lyric-tumor",
   "metadata": {},
   "source": [
    "# Copying Numpy Arrays ( Be Careful !! )"
   ]
  },
  {
   "cell_type": "code",
   "execution_count": 66,
   "id": "mature-hotel",
   "metadata": {},
   "outputs": [
    {
     "name": "stdout",
     "output_type": "stream",
     "text": [
      "[1 2 3] \n",
      " [1 2 3]\n"
     ]
    }
   ],
   "source": [
    "a = np.array([1,2,3])\n",
    "b = a\n",
    "print(a,'\\n',b)"
   ]
  },
  {
   "cell_type": "code",
   "execution_count": 67,
   "id": "alternate-comparative",
   "metadata": {},
   "outputs": [
    {
     "name": "stdout",
     "output_type": "stream",
     "text": [
      "[100   2   3] \n",
      " [100   2   3]\n"
     ]
    }
   ],
   "source": [
    "b[0] = 100\n",
    "print(a,'\\n',b) # This is the concept of pointer"
   ]
  },
  {
   "cell_type": "code",
   "execution_count": 68,
   "id": "dominant-classroom",
   "metadata": {},
   "outputs": [
    {
     "name": "stdout",
     "output_type": "stream",
     "text": [
      "[100   2   3] \n",
      " [300   2   3]\n"
     ]
    }
   ],
   "source": [
    "# so too actually copy use\n",
    "\n",
    "b = a.copy()\n",
    "b[0]=300\n",
    "print(a,'\\n',b)"
   ]
  },
  {
   "cell_type": "markdown",
   "id": "expensive-orientation",
   "metadata": {},
   "source": [
    "# Mathematics"
   ]
  },
  {
   "cell_type": "code",
   "execution_count": 73,
   "id": "affected-indicator",
   "metadata": {},
   "outputs": [
    {
     "name": "stdout",
     "output_type": "stream",
     "text": [
      "[1 2 3 4]\n",
      "[3 4 5 6]\n",
      "[1 2 3 4]\n",
      "[2 4 6 8]\n",
      "[1. 2. 3. 4.]\n",
      "[3. 4. 5. 6.]\n",
      "[ 9. 16. 25. 36.]\n"
     ]
    }
   ],
   "source": [
    "a = np.array([1,2,3,4])\n",
    "print(a)\n",
    "\n",
    "a = a + 2 # adds 2 to each element\n",
    "print(a)\n",
    "\n",
    "a = a - 2 # subtracts 2 from each element\n",
    "print(a)\n",
    "\n",
    "a = a*2 # multiply everything by 2\n",
    "print(a)\n",
    "\n",
    "a = a/2 # divide everything by 2\n",
    "print(a)\n",
    "\n",
    "a += 2 # adds 2 to each element\n",
    "print(a)\n",
    "\n",
    "a = a**2 # square's everything\n",
    "print(a)"
   ]
  },
  {
   "cell_type": "code",
   "execution_count": 74,
   "id": "voluntary-cooling",
   "metadata": {},
   "outputs": [
    {
     "name": "stdout",
     "output_type": "stream",
     "text": [
      "[10. 16. 26. 36.]\n"
     ]
    }
   ],
   "source": [
    "b = np.array([1,0,1,0])\n",
    "print(a+b) # adds all elements along the axis = 0"
   ]
  },
  {
   "cell_type": "code",
   "execution_count": 75,
   "id": "talented-retirement",
   "metadata": {},
   "outputs": [
    {
     "name": "stdout",
     "output_type": "stream",
     "text": [
      "[ 0.41211849 -0.28790332 -0.13235175 -0.99177885]\n",
      "[0.91627432 0.95884132 0.99125428 0.54720183]\n"
     ]
    }
   ],
   "source": [
    "# trignometric\n",
    "\n",
    "a = np.sin(a) # sin of all values\n",
    "print(a)\n",
    "\n",
    "a = np.cos(a) # cosine off all values\n",
    "print(a)"
   ]
  },
  {
   "cell_type": "markdown",
   "id": "baking-bandwidth",
   "metadata": {},
   "source": [
    "# Linear Algebra"
   ]
  },
  {
   "cell_type": "code",
   "execution_count": 77,
   "id": "moved-reminder",
   "metadata": {},
   "outputs": [
    {
     "name": "stdout",
     "output_type": "stream",
     "text": [
      "[[1 1 1]\n",
      " [1 1 1]]\n",
      "[[2 2]\n",
      " [2 2]\n",
      " [2 2]]\n"
     ]
    },
    {
     "data": {
      "text/plain": [
       "array([[6, 6],\n",
       "       [6, 6]])"
      ]
     },
     "execution_count": 77,
     "metadata": {},
     "output_type": "execute_result"
    }
   ],
   "source": [
    "a = np.full((2,3),1) # 2x3 matrix of 1's\n",
    "print(a)\n",
    "\n",
    "b = np.full((3,2),2)\n",
    "print(b)\n",
    "\n",
    "np.matmul(a,b) # matrix multiplication function"
   ]
  },
  {
   "cell_type": "code",
   "execution_count": 79,
   "id": "involved-decrease",
   "metadata": {},
   "outputs": [
    {
     "data": {
      "text/plain": [
       "1.0"
      ]
     },
     "execution_count": 79,
     "metadata": {},
     "output_type": "execute_result"
    }
   ],
   "source": [
    "c = np.identity(3) # an identity matrix\n",
    "np.linalg.det(c) # find the determinant of c"
   ]
  },
  {
   "cell_type": "markdown",
   "id": "unable-planning",
   "metadata": {},
   "source": [
    "# Statistics with Numpy"
   ]
  },
  {
   "cell_type": "code",
   "execution_count": 82,
   "id": "suffering-medicine",
   "metadata": {},
   "outputs": [
    {
     "name": "stdout",
     "output_type": "stream",
     "text": [
      "[[1 2 3]\n",
      " [4 5 6]]\n",
      "1 \n",
      " 6 \n",
      " [1 4]\n"
     ]
    }
   ],
   "source": [
    "stats = np.array([[1,2,3],[4,5,6]])\n",
    "print(stats)\n",
    "print(np.min(stats),'\\n',np.max(stats),'\\n',np.min(stats,axis=1)) # prints the minimum in the whole numpy array"
   ]
  },
  {
   "cell_type": "code",
   "execution_count": 83,
   "id": "global-dodge",
   "metadata": {},
   "outputs": [
    {
     "name": "stdout",
     "output_type": "stream",
     "text": [
      "21\n"
     ]
    }
   ],
   "source": [
    "print(np.sum(stats)) # prints the sum of the whole numpy array"
   ]
  },
  {
   "cell_type": "code",
   "execution_count": 111,
   "id": "brave-somerset",
   "metadata": {},
   "outputs": [
    {
     "name": "stdout",
     "output_type": "stream",
     "text": [
      "[1 2 3 4 5 6]\n"
     ]
    }
   ],
   "source": [
    "print(np.unique(stats))"
   ]
  },
  {
   "cell_type": "markdown",
   "id": "romantic-defendant",
   "metadata": {},
   "source": [
    "# Reorganizing Arrays"
   ]
  },
  {
   "cell_type": "code",
   "execution_count": 85,
   "id": "simple-anchor",
   "metadata": {},
   "outputs": [
    {
     "name": "stdout",
     "output_type": "stream",
     "text": [
      "[[1 2 3 4]\n",
      " [5 6 7 8]]\n",
      "[[1 2]\n",
      " [3 4]\n",
      " [5 6]\n",
      " [7 8]]\n"
     ]
    }
   ],
   "source": [
    "before = np.array([[1,2,3,4],[5,6,7,8]])\n",
    "print(before)\n",
    "\n",
    "after = before.reshape((4,2)) # reshaping is allowed, as long as it is valid reshaping\n",
    "print(after)"
   ]
  },
  {
   "cell_type": "code",
   "execution_count": 88,
   "id": "provincial-edition",
   "metadata": {},
   "outputs": [
    {
     "data": {
      "text/plain": [
       "array([[1, 2, 3, 4],\n",
       "       [5, 6, 7, 8],\n",
       "       [5, 6, 7, 8],\n",
       "       [1, 2, 3, 4]])"
      ]
     },
     "execution_count": 88,
     "metadata": {},
     "output_type": "execute_result"
    }
   ],
   "source": [
    "v1 = np.array([1,2,3,4])\n",
    "v2 = np.array([5,6,7,8])\n",
    "\n",
    "np.vstack([v1,v2,v2,v1]) # stacks lists vertically"
   ]
  },
  {
   "cell_type": "code",
   "execution_count": 89,
   "id": "sitting-payday",
   "metadata": {},
   "outputs": [
    {
     "data": {
      "text/plain": [
       "array([1, 2, 3, 4, 5, 6, 7, 8])"
      ]
     },
     "execution_count": 89,
     "metadata": {},
     "output_type": "execute_result"
    }
   ],
   "source": [
    "np.hstack([v1,v2]) # here the horizontal stack made a single list"
   ]
  },
  {
   "cell_type": "code",
   "execution_count": 91,
   "id": "pending-measurement",
   "metadata": {},
   "outputs": [
    {
     "data": {
      "text/plain": [
       "array([[1, 2, 3, 4, 5, 6, 7, 8]])"
      ]
     },
     "execution_count": 91,
     "metadata": {},
     "output_type": "execute_result"
    }
   ],
   "source": [
    "h1 = [v1]\n",
    "h2 = [v2]\n",
    "\n",
    "np.hstack([h1,h2]) # joins them, necessary relation ; number of rows must be same"
   ]
  },
  {
   "cell_type": "markdown",
   "id": "north-tension",
   "metadata": {},
   "source": [
    "# Load Data from file"
   ]
  },
  {
   "cell_type": "code",
   "execution_count": 92,
   "id": "reliable-trading",
   "metadata": {},
   "outputs": [],
   "source": [
    "data_file_path = r'C:\\Local Disk\\Programming\\Python Projects\\Numpy\\data.txt'"
   ]
  },
  {
   "cell_type": "code",
   "execution_count": 98,
   "id": "incorporated-adobe",
   "metadata": {},
   "outputs": [
    {
     "name": "stdout",
     "output_type": "stream",
     "text": [
      "[[  1.  13.  21.  11. 196.  75.   4.   3.  34.   6.   7.   8.   0.   1.\n",
      "    2.   3.   4.   5.]\n",
      " [  3.  42.  12.  33. 766.  75.   4.  55.   6.   4.   3.   4.   5.   6.\n",
      "    7.   0.  11.  12.]\n",
      " [  1.  22.  33.  11. 999.  11.   2.   1.  78.   0.   1.   2.   9.   8.\n",
      "    7.   1.  76.  88.]]\n",
      "[[  1  13  21  11 196  75   4   3  34   6   7   8   0   1   2   3   4   5]\n",
      " [  3  42  12  33 766  75   4  55   6   4   3   4   5   6   7   0  11  12]\n",
      " [  1  22  33  11 999  11   2   1  78   0   1   2   9   8   7   1  76  88]]\n"
     ]
    }
   ],
   "source": [
    "filedata = np.genfromtxt(data_file_path,delimiter=',') # creates a numpy array from the txt file\n",
    "\n",
    "print(filedata)\n",
    "\n",
    "filedata = filedata.astype('int32') # from float to int32\n",
    "\n",
    "print(filedata)"
   ]
  },
  {
   "cell_type": "markdown",
   "id": "handy-department",
   "metadata": {},
   "source": [
    "# Boolean Masking & Advanced Indexing"
   ]
  },
  {
   "cell_type": "code",
   "execution_count": 99,
   "id": "northern-progressive",
   "metadata": {},
   "outputs": [
    {
     "data": {
      "text/plain": [
       "array([[False, False, False, False,  True,  True, False, False, False,\n",
       "        False, False, False, False, False, False, False, False, False],\n",
       "       [False, False, False, False,  True,  True, False,  True, False,\n",
       "        False, False, False, False, False, False, False, False, False],\n",
       "       [False, False, False, False,  True, False, False, False,  True,\n",
       "        False, False, False, False, False, False, False,  True,  True]])"
      ]
     },
     "execution_count": 99,
     "metadata": {},
     "output_type": "execute_result"
    }
   ],
   "source": [
    "filedata > 50 # get false or true and know that whether that specific location is greater than 50"
   ]
  },
  {
   "cell_type": "code",
   "execution_count": 101,
   "id": "continuous-falls",
   "metadata": {},
   "outputs": [
    {
     "data": {
      "text/plain": [
       "array([196,  75, 766,  75,  55, 999,  78,  76,  88])"
      ]
     },
     "execution_count": 101,
     "metadata": {},
     "output_type": "execute_result"
    }
   ],
   "source": [
    "filedata[filedata>50] # returns an array of only those values that are greater than 50"
   ]
  },
  {
   "cell_type": "code",
   "execution_count": 102,
   "id": "killing-growth",
   "metadata": {},
   "outputs": [
    {
     "data": {
      "text/plain": [
       "array([2, 3, 9])"
      ]
     },
     "execution_count": 102,
     "metadata": {},
     "output_type": "execute_result"
    }
   ],
   "source": [
    "# we can index with a list in NumPy\n",
    "\n",
    "a = np.array([1,2,3,4,5,6,7,8,9])\n",
    "a[[1,2,8]] # indexed those spots based on a past of index_values enclosed in a list"
   ]
  },
  {
   "cell_type": "code",
   "execution_count": 105,
   "id": "chicken-advocacy",
   "metadata": {},
   "outputs": [
    {
     "name": "stdout",
     "output_type": "stream",
     "text": [
      "[False False False False  True  True False  True  True False False False\n",
      " False False False False  True  True] \n",
      "\n",
      " [False False False False  True False False False False False False False\n",
      " False False False False False False]\n"
     ]
    }
   ],
   "source": [
    "print(np.any(filedata>50,axis=0),'\\n\\n',np.all(filedata>50,axis=0)) # checks along the basis of rows - if any of the the column_values have values greater than 50"
   ]
  },
  {
   "cell_type": "code",
   "execution_count": 107,
   "id": "embedded-bible",
   "metadata": {},
   "outputs": [
    {
     "data": {
      "text/plain": [
       "array([[False, False, False, False, False, False, False, False, False,\n",
       "        False, False, False, False, False, False, False, False, False],\n",
       "       [False, False, False, False, False, False, False, False, False,\n",
       "        False, False, False, False, False, False, False, False, False],\n",
       "       [False, False, False, False, False, False, False, False, False,\n",
       "        False, False, False, False, False, False, False, False, False]])"
      ]
     },
     "execution_count": 107,
     "metadata": {},
     "output_type": "execute_result"
    }
   ],
   "source": [
    "((filedata>50) & (filedata<50)) # ands two numpy matrices of same shape"
   ]
  },
  {
   "cell_type": "code",
   "execution_count": 108,
   "id": "horizontal-lingerie",
   "metadata": {},
   "outputs": [
    {
     "data": {
      "text/plain": [
       "array([[ True,  True,  True,  True,  True,  True,  True,  True,  True,\n",
       "         True,  True,  True,  True,  True,  True,  True,  True,  True],\n",
       "       [ True,  True,  True,  True,  True,  True,  True,  True,  True,\n",
       "         True,  True,  True,  True,  True,  True,  True,  True,  True],\n",
       "       [ True,  True,  True,  True,  True,  True,  True,  True,  True,\n",
       "         True,  True,  True,  True,  True,  True,  True,  True,  True]])"
      ]
     },
     "execution_count": 108,
     "metadata": {},
     "output_type": "execute_result"
    }
   ],
   "source": [
    "(~((filedata>50) & (filedata<50))) # the not for the same"
   ]
  }
 ],
 "metadata": {
  "kernelspec": {
   "display_name": "Python 3",
   "language": "python",
   "name": "python3"
  },
  "language_info": {
   "codemirror_mode": {
    "name": "ipython",
    "version": 3
   },
   "file_extension": ".py",
   "mimetype": "text/x-python",
   "name": "python",
   "nbconvert_exporter": "python",
   "pygments_lexer": "ipython3",
   "version": "3.8.7"
  }
 },
 "nbformat": 4,
 "nbformat_minor": 5
}
